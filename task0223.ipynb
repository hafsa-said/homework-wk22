{
 "cells": [
  {
   "cell_type": "markdown",
   "metadata": {},
   "source": [
    "# Q. 1.\n",
    "Use Splinter and/or Beautiful Soup to scrape mercadolibre.com.mx or soundcloud.com\n",
    "or tripadvisor.com. You must programmatically click a link from the front page to go to\n",
    "another page of interest to you and then select at least 5 items from that page. The 5\n",
    "items must be stored in a data structure that makes sense (dictionary, list, etc).\n"
   ]
  },
  {
   "cell_type": "code",
   "execution_count": 41,
   "metadata": {},
   "outputs": [
    {
     "name": "stderr",
     "output_type": "stream",
     "text": [
      "\n",
      "\n",
      "====== WebDriver manager ======\n",
      "Current google-chrome version is 98.0.4758\n",
      "Get LATEST chromedriver version for 98.0.4758 google-chrome\n",
      "Trying to download new driver from https://chromedriver.storage.googleapis.com/98.0.4758.102/chromedriver_win32.zip\n",
      "Driver has been saved in cache [C:\\Users\\hafsa\\.wdm\\drivers\\chromedriver\\win32\\98.0.4758.102]\n"
     ]
    }
   ],
   "source": [
    "from splinter import Browser\n",
    "from webdriver_manager.chrome import ChromeDriverManager\n",
    "\n",
    "browser = Browser('chrome',**executable_path,headless=False)\n",
    "executable_path = {'executable_path':ChromeDriverManager().install()}"
   ]
  },
  {
   "cell_type": "code",
   "execution_count": 56,
   "metadata": {},
   "outputs": [],
   "source": [
    "from bs4 import BeautifulSoup as bs\n",
    "import requests\n",
    "import pandas as pd\n",
    "import regex as re"
   ]
  },
  {
   "cell_type": "code",
   "execution_count": 43,
   "metadata": {},
   "outputs": [
    {
     "data": {
      "text/plain": [
       "<Response [200]>"
      ]
     },
     "execution_count": 43,
     "metadata": {},
     "output_type": "execute_result"
    }
   ],
   "source": [
    "url ='https://soundcloud.com/'\n",
    "response = requests.get(url)\n",
    "response"
   ]
  },
  {
   "cell_type": "code",
   "execution_count": 44,
   "metadata": {},
   "outputs": [],
   "source": [
    "browser.visit(url)"
   ]
  },
  {
   "cell_type": "code",
   "execution_count": 45,
   "metadata": {},
   "outputs": [],
   "source": [
    "\n",
    "#direct browser to click on link containing 'Explore' with a wait period before continuing\n",
    "browser.links.find_by_partial_text('Explore').click()\n",
    "\n",
    "# i can see the page in browser"
   ]
  },
  {
   "cell_type": "code",
   "execution_count": 51,
   "metadata": {},
   "outputs": [],
   "source": [
    "#extract all div labels with specified class to access each music chart tile\n",
    "#found class in div to be accurate\n",
    "soup = bs(browser.html,'html.parser')\n",
    "all_divs = soup.find_all('div', class_='playableTile__artwork')"
   ]
  },
  {
   "cell_type": "code",
   "execution_count": 64,
   "metadata": {},
   "outputs": [
    {
     "name": "stdout",
     "output_type": "stream",
     "text": [
      "Top 50: Global Beats\n",
      "/discover/sets/charts-top:all-music:us\n",
      "https://i1.sndcdn.com/artworks-1Hod1KTMNrTcNumy-qzJjqw-t500x500.jpg\n",
      "Top 50: Global Beats\n",
      "/discover/sets/charts-top:hiphoprap:us\n",
      "https://i1.sndcdn.com/artworks-1Hod1KTMNrTcNumy-qzJjqw-t500x500.jpg\n",
      "Top 50: Global Beats\n",
      "/discover/sets/charts-top:pop:us\n",
      "https://i1.sndcdn.com/artworks-JF6xhIxClSnO-0-t500x500.jpg\n",
      "Top 50: Global Beats\n",
      "/discover/sets/charts-top:rbsoul:us\n",
      "https://i1.sndcdn.com/artworks-9ixbhhfjgJ9wWsGI-TlItkQ-t500x500.jpg\n",
      "Top 50: Global Beats\n",
      "/discover/sets/charts-top:world:us\n",
      "https://i1.sndcdn.com/artworks-000350395503-2duk8l-t500x500.jpg\n",
      "Top 50: Global Beats\n",
      "/discover/sets/charts-trending:all-music:us\n",
      "https://i1.sndcdn.com/artworks-AFciZ4rhEzx89Rky-pciVEw-t500x500.jpg\n",
      "Top 50: Global Beats\n",
      "/discover/sets/charts-trending:hiphoprap:us\n",
      "https://i1.sndcdn.com/artworks-AFciZ4rhEzx89Rky-pciVEw-t500x500.jpg\n",
      "Top 50: Global Beats\n",
      "/discover/sets/charts-trending:pop:us\n",
      "https://i1.sndcdn.com/artworks-O0X0gzTcr8madS8e-zqkSTg-t500x500.jpg\n",
      "Top 50: Global Beats\n",
      "/discover/sets/charts-trending:rbsoul:us\n",
      "https://i1.sndcdn.com/artworks-SkihOY06tSjrsyJ5-0mpyMg-t500x500.jpg\n",
      "Top 50: Global Beats\n",
      "/discover/sets/charts-trending:world:us\n",
      "https://i1.sndcdn.com/artworks-dzJsp3Aon2Mdx0cY-V9FxiQ-t500x500.jpg\n"
     ]
    }
   ],
   "source": [
    "#for each div, extracting info\n",
    "new_list = []\n",
    "for div in all_divs[:10]:\n",
    "    try:\n",
    "        chart_name = div.find('span')['aria-label']\n",
    "        print(chart)\n",
    "        \n",
    "        link = div.find('a')['href']\n",
    "        print(link)\n",
    "        \n",
    "        image = re.search('http.*jpg', div.find('span')['style']).group(0)\n",
    "        print(image)\n",
    "\n",
    "# add info to a dictionary and append dictionary to empty list        \n",
    "        chart_dic = {'Chart Name':chart_name,\n",
    "                      'Reference Url':link, \n",
    "                      'Image Link':image}\n",
    "\n",
    "        new_list.append(chart_dict)\n",
    "\n",
    "    except Exception as e:\n",
    "        print(e)"
   ]
  },
  {
   "cell_type": "code",
   "execution_count": 65,
   "metadata": {},
   "outputs": [
    {
     "data": {
      "text/html": [
       "<div>\n",
       "<style scoped>\n",
       "    .dataframe tbody tr th:only-of-type {\n",
       "        vertical-align: middle;\n",
       "    }\n",
       "\n",
       "    .dataframe tbody tr th {\n",
       "        vertical-align: top;\n",
       "    }\n",
       "\n",
       "    .dataframe thead th {\n",
       "        text-align: right;\n",
       "    }\n",
       "</style>\n",
       "<table border=\"1\" class=\"dataframe\">\n",
       "  <thead>\n",
       "    <tr style=\"text-align: right;\">\n",
       "      <th></th>\n",
       "      <th>chart_name</th>\n",
       "      <th>reference_url</th>\n",
       "      <th>image_link</th>\n",
       "    </tr>\n",
       "  </thead>\n",
       "  <tbody>\n",
       "    <tr>\n",
       "      <th>0</th>\n",
       "      <td>Top 50: Global Beats</td>\n",
       "      <td>/discover/sets/charts-top:world:us</td>\n",
       "      <td>https://i1.sndcdn.com/artworks-000350395503-2d...</td>\n",
       "    </tr>\n",
       "    <tr>\n",
       "      <th>1</th>\n",
       "      <td>Top 50: Global Beats</td>\n",
       "      <td>/discover/sets/charts-top:world:us</td>\n",
       "      <td>https://i1.sndcdn.com/artworks-000350395503-2d...</td>\n",
       "    </tr>\n",
       "    <tr>\n",
       "      <th>2</th>\n",
       "      <td>Top 50: Global Beats</td>\n",
       "      <td>/discover/sets/charts-top:world:us</td>\n",
       "      <td>https://i1.sndcdn.com/artworks-000350395503-2d...</td>\n",
       "    </tr>\n",
       "    <tr>\n",
       "      <th>3</th>\n",
       "      <td>Top 50: Global Beats</td>\n",
       "      <td>/discover/sets/charts-top:world:us</td>\n",
       "      <td>https://i1.sndcdn.com/artworks-000350395503-2d...</td>\n",
       "    </tr>\n",
       "    <tr>\n",
       "      <th>4</th>\n",
       "      <td>Top 50: Global Beats</td>\n",
       "      <td>/discover/sets/charts-top:world:us</td>\n",
       "      <td>https://i1.sndcdn.com/artworks-000350395503-2d...</td>\n",
       "    </tr>\n",
       "    <tr>\n",
       "      <th>5</th>\n",
       "      <td>Top 50: Global Beats</td>\n",
       "      <td>/discover/sets/charts-top:world:us</td>\n",
       "      <td>https://i1.sndcdn.com/artworks-000350395503-2d...</td>\n",
       "    </tr>\n",
       "    <tr>\n",
       "      <th>6</th>\n",
       "      <td>Top 50: Global Beats</td>\n",
       "      <td>/discover/sets/charts-top:world:us</td>\n",
       "      <td>https://i1.sndcdn.com/artworks-000350395503-2d...</td>\n",
       "    </tr>\n",
       "    <tr>\n",
       "      <th>7</th>\n",
       "      <td>Top 50: Global Beats</td>\n",
       "      <td>/discover/sets/charts-top:world:us</td>\n",
       "      <td>https://i1.sndcdn.com/artworks-000350395503-2d...</td>\n",
       "    </tr>\n",
       "    <tr>\n",
       "      <th>8</th>\n",
       "      <td>Top 50: Global Beats</td>\n",
       "      <td>/discover/sets/charts-top:world:us</td>\n",
       "      <td>https://i1.sndcdn.com/artworks-000350395503-2d...</td>\n",
       "    </tr>\n",
       "    <tr>\n",
       "      <th>9</th>\n",
       "      <td>Top 50: Global Beats</td>\n",
       "      <td>/discover/sets/charts-top:world:us</td>\n",
       "      <td>https://i1.sndcdn.com/artworks-000350395503-2d...</td>\n",
       "    </tr>\n",
       "  </tbody>\n",
       "</table>\n",
       "</div>"
      ],
      "text/plain": [
       "             chart_name                       reference_url  \\\n",
       "0  Top 50: Global Beats  /discover/sets/charts-top:world:us   \n",
       "1  Top 50: Global Beats  /discover/sets/charts-top:world:us   \n",
       "2  Top 50: Global Beats  /discover/sets/charts-top:world:us   \n",
       "3  Top 50: Global Beats  /discover/sets/charts-top:world:us   \n",
       "4  Top 50: Global Beats  /discover/sets/charts-top:world:us   \n",
       "5  Top 50: Global Beats  /discover/sets/charts-top:world:us   \n",
       "6  Top 50: Global Beats  /discover/sets/charts-top:world:us   \n",
       "7  Top 50: Global Beats  /discover/sets/charts-top:world:us   \n",
       "8  Top 50: Global Beats  /discover/sets/charts-top:world:us   \n",
       "9  Top 50: Global Beats  /discover/sets/charts-top:world:us   \n",
       "\n",
       "                                          image_link  \n",
       "0  https://i1.sndcdn.com/artworks-000350395503-2d...  \n",
       "1  https://i1.sndcdn.com/artworks-000350395503-2d...  \n",
       "2  https://i1.sndcdn.com/artworks-000350395503-2d...  \n",
       "3  https://i1.sndcdn.com/artworks-000350395503-2d...  \n",
       "4  https://i1.sndcdn.com/artworks-000350395503-2d...  \n",
       "5  https://i1.sndcdn.com/artworks-000350395503-2d...  \n",
       "6  https://i1.sndcdn.com/artworks-000350395503-2d...  \n",
       "7  https://i1.sndcdn.com/artworks-000350395503-2d...  \n",
       "8  https://i1.sndcdn.com/artworks-000350395503-2d...  \n",
       "9  https://i1.sndcdn.com/artworks-000350395503-2d...  "
      ]
     },
     "execution_count": 65,
     "metadata": {},
     "output_type": "execute_result"
    }
   ],
   "source": [
    "#convert list of dictionaries to a dataframe\n",
    "soundcloud_df = pd.DataFrame(new_list)\n",
    "soundcloud_df"
   ]
  },
  {
   "cell_type": "markdown",
   "metadata": {},
   "source": [
    "# Q. 2.\n",
    "Share with your group how web scraping worked on the website and link you chose.\n",
    "Compare it with others. List the site you chose and two observations about parsing the\n",
    "website. Indicate if this was the same or different for the sites chosen by others."
   ]
  },
  {
   "cell_type": "markdown",
   "metadata": {},
   "source": [
    "Since I missed the group section of the class, I am going to answer this according to group discussion on Slack. I see someone had worked on soundcloud as well, they used very similar syntax as me to find their information. In fact, I used Angela's idea to find images to add to my DataFrame to give it more information. "
   ]
  }
 ],
 "metadata": {
  "interpreter": {
   "hash": "f4fde45515710cbe4f4cf44a8ddef1b298277709bd6c5462499553af68a98f2e"
  },
  "kernelspec": {
   "display_name": "Python 3.9.7 64-bit",
   "language": "python",
   "name": "python3"
  },
  "language_info": {
   "codemirror_mode": {
    "name": "ipython",
    "version": 3
   },
   "file_extension": ".py",
   "mimetype": "text/x-python",
   "name": "python",
   "nbconvert_exporter": "python",
   "pygments_lexer": "ipython3",
   "version": "3.9.7"
  },
  "orig_nbformat": 4
 },
 "nbformat": 4,
 "nbformat_minor": 2
}
